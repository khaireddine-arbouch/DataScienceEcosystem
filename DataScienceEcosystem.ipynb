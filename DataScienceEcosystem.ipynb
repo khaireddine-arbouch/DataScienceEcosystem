{
 "cells": [
  {
   "cell_type": "markdown",
   "id": "f3764420-4608-4dbf-996f-15618cca95af",
   "metadata": {},
   "source": [
    "# Data Science Tools and Ecosystem"
   ]
  },
  {
   "cell_type": "markdown",
   "id": "5bda13bb-6f0e-4dba-ba3c-41b6f9bc1634",
   "metadata": {},
   "source": [
    "In this notebook, Data Science Tools and Ecosystem are summarized"
   ]
  },
  {
   "cell_type": "markdown",
   "id": "4f210a7c-9270-453b-bde4-0afabf31d351",
   "metadata": {},
   "source": [
    "Some of the popular languages that Data Scientists use are:\n",
    "1. Python\n",
    "2. Java\n",
    "3. R"
   ]
  },
  {
   "cell_type": "markdown",
   "id": "4209cea3-30ff-43cf-8fd2-06ff1d9838d1",
   "metadata": {},
   "source": [
    "Some of the commonly used libraries used by Data Scientists include:\n",
    "1. Pandas\n",
    "2. Numpy\n",
    "3. Matplotlib"
   ]
  },
  {
   "cell_type": "markdown",
   "id": "88759755-1b7c-4b86-b089-9857cc69ad21",
   "metadata": {},
   "source": [
    "| Data Science Tools |\n",
    "|--------------------|\n",
    "| Jupyter Notebook   |\n",
    "| PyCharm            |\n",
    "| Visual Studio Code |"
   ]
  },
  {
   "cell_type": "markdown",
   "id": "49343e76-1b9c-4b25-bff9-af1559d552ce",
   "metadata": {},
   "source": [
    "### Below are a few examples of evaluating arithmetic expressions in Python"
   ]
  },
  {
   "cell_type": "code",
   "execution_count": 5,
   "id": "947955a0-1adb-4749-a6d0-f16a174bd5a2",
   "metadata": {},
   "outputs": [
    {
     "data": {
      "text/plain": [
       "17"
      ]
     },
     "execution_count": 5,
     "metadata": {},
     "output_type": "execute_result"
    }
   ],
   "source": [
    "# This a simple arithmetic expression to mutiply then add integers\n",
    "(3*4)+5"
   ]
  },
  {
   "cell_type": "code",
   "execution_count": 7,
   "id": "160e8cfb-97ac-4b95-8ed0-6ac8352c7bb7",
   "metadata": {},
   "outputs": [
    {
     "name": "stdout",
     "output_type": "stream",
     "text": [
      "3.3333333333333335\n"
     ]
    }
   ],
   "source": [
    "# This will convert 200 minutes to hours by diving by 60\n",
    "minutes = 200\n",
    "to_hour = minutes / 60\n",
    "print(to_hour)"
   ]
  },
  {
   "cell_type": "markdown",
   "id": "9cac3c51-9e27-49e6-a711-e688ffa0d9a2",
   "metadata": {},
   "source": [
    "**Objectives:**\n",
    "\n",
    "- List popular languages for Data Science.\n",
    "- Introduce common data science tools.\n",
    "- Discuss key concepts in exploratory data analysis.\n",
    "- Demonstrate basic machine learning algorithms."
   ]
  },
  {
   "cell_type": "markdown",
   "id": "8c78f1e2-4933-4f3b-96a5-4f7fef68effd",
   "metadata": {},
   "source": [
    "## Author\n",
    "Khaireddine Arbouch"
   ]
  },
  {
   "cell_type": "code",
   "execution_count": null,
   "id": "9ef58427-e421-44fb-89ba-23c2f1cf99fe",
   "metadata": {},
   "outputs": [],
   "source": []
  }
 ],
 "metadata": {
  "kernelspec": {
   "display_name": "Python 3 (ipykernel)",
   "language": "python",
   "name": "python3"
  },
  "language_info": {
   "codemirror_mode": {
    "name": "ipython",
    "version": 3
   },
   "file_extension": ".py",
   "mimetype": "text/x-python",
   "name": "python",
   "nbconvert_exporter": "python",
   "pygments_lexer": "ipython3",
   "version": "3.10.11"
  }
 },
 "nbformat": 4,
 "nbformat_minor": 5
}
